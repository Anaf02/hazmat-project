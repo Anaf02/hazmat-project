{
 "cells": [
  {
   "cell_type": "markdown",
   "metadata": {},
   "source": [
    "#  2.Dataset: resize 640, convert to VOC to YOLO, split to subfolders each: train, val"
   ]
  },
  {
   "cell_type": "markdown",
   "metadata": {},
   "source": [
    "# Convert image size\n",
    "# folder: scriptconvert: from img_bef to img_after"
   ]
  },
  {
   "cell_type": "code",
   "execution_count": null,
   "metadata": {},
   "outputs": [],
   "source": [
    "!python data/criptconvert/resize_images.py"
   ]
  },
  {
   "cell_type": "markdown",
   "metadata": {},
   "source": [
    "# Convert file format\n",
    "# folder: scriptconvert: 1. file: from annot_bef to annot_after, 2. file: from annot_after to annot_finish"
   ]
  },
  {
   "cell_type": "code",
   "execution_count": null,
   "metadata": {},
   "outputs": [],
   "source": [
    "\n",
    "!pyhton data/scriptconvert/resizeVOC.py\n",
    "!python data/scriptconvert/xml2yolo.py\n"
   ]
  },
  {
   "cell_type": "markdown",
   "metadata": {},
   "source": [
    "# split data into classes: not working, only if you run directly from terminal"
   ]
  },
  {
   "cell_type": "code",
   "execution_count": null,
   "metadata": {},
   "outputs": [],
   "source": [
    "!python \"C:/Users/User/VisualStudioCode/SS24_AI Project/hazmat-project/data/scriptconvert/split_subfolders.py\""
   ]
  }
 ],
 "metadata": {
  "language_info": {
   "name": "python"
  }
 },
 "nbformat": 4,
 "nbformat_minor": 2
}
